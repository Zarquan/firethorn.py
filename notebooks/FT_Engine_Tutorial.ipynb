{
 "cells": [
  {
   "cell_type": "code",
   "execution_count": null,
   "metadata": {},
   "outputs": [],
   "source": [
    "import firethorn"
   ]
  },
  {
   "cell_type": "code",
   "execution_count": null,
   "metadata": {},
   "outputs": [],
   "source": [
    "# Initialize Firethorn Object\n",
    "\n",
    "ft = firethorn.Firethorn()\n"
   ]
  },
  {
   "cell_type": "code",
   "execution_count": null,
   "metadata": {},
   "outputs": [],
   "source": [
    "# Login as admin account (username,password, community)\n",
    "\n",
    "ft.login(\"\", \"\", \"\")\n"
   ]
  },
  {
   "cell_type": "code",
   "execution_count": null,
   "metadata": {},
   "outputs": [],
   "source": [
    "# Check the System info page\n",
    "\n",
    "print (ft.firethorn_engine.system_info_check())\n"
   ]
  },
  {
   "cell_type": "code",
   "execution_count": null,
   "metadata": {},
   "outputs": [],
   "source": [
    "#  Create a JdbcResource to represent the local JDBC database.\n",
    "\n",
    "datahost=\"\"\n",
    "datauser=\"\"\n",
    "datapass=\"\"\n",
    "dataurl=\"jdbc:jtds:sqlserver:///\"\n",
    "jdbc_name=\"ATLAS JDBC resource\"\n",
    "\n",
    "jdbc_url=\"jdbc:jtds:sqlserver://\" + datahost + \"/ATLASDR1\"\n",
    "atlas_jdbc_url = ft.firethorn_engine.create_jdbc_space(\"ATLAS\" , dataurl, \"ATLASDR1\", jdbc_name, datauser, datapass)\n",
    "print (atlas_jdbc_url)\n",
    "    "
   ]
  },
  {
   "cell_type": "code",
   "execution_count": null,
   "metadata": {},
   "outputs": [],
   "source": [
    "# Create an empty AdqlResource to represent the local JDBC database.\n",
    "\n",
    "adqlname=\"ATLAS ADQL resource\"\n",
    "atlas_adql_url = ft.firethorn_engine.create_adql_space(adqlname)\n",
    "print (atlas_adql_url)"
   ]
  },
  {
   "cell_type": "code",
   "execution_count": null,
   "metadata": {},
   "outputs": [],
   "source": [
    "# Locate the JdbcSchema based on catalog and schema name. \n",
    "\n",
    "catalog=\"ATLASDR1\"\n",
    "schema=\"dbo\"\n",
    "atlas_jdbc_schema = ft.firethorn_engine.jdbc_select_by_name(atlas_jdbc_url, catalog, schema)\n",
    "print (atlas_jdbc_schema)\n"
   ]
  },
  {
   "cell_type": "code",
   "execution_count": null,
   "metadata": {},
   "outputs": [],
   "source": [
    "# Import the mapping between JDBC and ADQL tables.\n",
    "    \n",
    "metadoc=\"meta/ATLASDR1_TablesSchema.xml\"\n",
    "atlas_adql_schema = ft.firethorn_engine.import_jdbc_metadoc(atlas_adql_url, atlas_jdbc_schema, metadoc)\n",
    "print (atlas_adql_schema)\n",
    " "
   ]
  },
  {
   "cell_type": "code",
   "execution_count": null,
   "metadata": {},
   "outputs": [],
   "source": [
    "# Create an IvoaResource to represent the GAIA TAP resource.\n",
    "\n",
    "tapname=\"GAIA TAP service\"\n",
    "tapurl=\"http://gea.esac.esa.int/tap-server/tap\"\n",
    "gaia_ivoa_resource = ft.firethorn_engine.create_ivoa_space(tapname, tapurl)\n",
    "print (gaia_ivoa_resource)"
   ]
  },
  {
   "cell_type": "code",
   "execution_count": null,
   "metadata": {},
   "outputs": [],
   "source": [
    "# Import the VOSI Metadata\n",
    "\n",
    "vosifile='meta/vosi/gaia/gaia-tableset.xml'\n",
    "gaia_schema = ft.firethorn_engine.import_vosi(vosifile, gaia_ivoa_resource)\n",
    "print (gaia_schema)"
   ]
  },
  {
   "cell_type": "code",
   "execution_count": null,
   "metadata": {},
   "outputs": [],
   "source": [
    "# Create a new ADQL resource to act as a workspace.\n",
    "\n",
    "adqlname=\"Query workspace\"\n",
    "queryspace = ft.firethorn_engine.create_adql_space(adqlname)\n",
    "print(queryspace)\n"
   ]
  },
  {
   "cell_type": "code",
   "execution_count": null,
   "metadata": {},
   "outputs": [],
   "source": [
    "# Find the AtlasDR1 schema by name.\n",
    "    \n",
    "selector=\"ATLASDR1\"\n",
    "atlas_schema = ft.firethorn_engine.select_by_name(selector, atlas_adql_url)\n",
    "print (atlas_schema)\n",
    "    "
   ]
  },
  {
   "cell_type": "code",
   "execution_count": null,
   "metadata": {},
   "outputs": [],
   "source": [
    "# Find the Gaia DR1 schema by name.\n",
    "    \n",
    "selector=\"gaiadr1\"\n",
    "gaia_schema = ft.firethorn_engine.select_ivoa_schema(selector, gaia_ivoa_resource)\n",
    "print (gaia_schema)"
   ]
  },
  {
   "cell_type": "code",
   "execution_count": null,
   "metadata": {},
   "outputs": [],
   "source": [
    "# Add the Atlas DR1 schema.\n",
    "\n",
    "name=\"ATLASDR1\"\n",
    "ft.firethorn_engine.import_schema(name, atlas_schema, queryspace)"
   ]
  },
  {
   "cell_type": "code",
   "execution_count": null,
   "metadata": {},
   "outputs": [],
   "source": [
    "# Add the Gaia DR1 schema.\n",
    "    \n",
    "name=\"GAIADR1\"\n",
    "base=gaia_schema\n",
    "ft.firethorn_engine.import_schema(name, base, queryspace)"
   ]
  },
  {
   "cell_type": "code",
   "execution_count": null,
   "metadata": {},
   "outputs": [],
   "source": [
    "# List the workspace schema.\n",
    "\n",
    "print (ft.firethorn_engine.list_schemas(queryspace))"
   ]
  },
  {
   "cell_type": "code",
   "execution_count": null,
   "metadata": {},
   "outputs": [],
   "source": []
  }
 ],
 "metadata": {
  "kernelspec": {
   "display_name": "Python 3",
   "language": "python",
   "name": "python3"
  },
  "language_info": {
   "codemirror_mode": {
    "name": "ipython",
    "version": 3
   },
   "file_extension": ".py",
   "mimetype": "text/x-python",
   "name": "python",
   "nbconvert_exporter": "python",
   "pygments_lexer": "ipython3",
   "version": "3.4.3"
  }
 },
 "nbformat": 4,
 "nbformat_minor": 2
}
