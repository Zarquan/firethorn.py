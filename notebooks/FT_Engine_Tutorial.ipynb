{
 "cells": [
  {
   "cell_type": "code",
   "execution_count": 1,
   "metadata": {},
   "outputs": [],
   "source": [
    "import firethorn"
   ]
  },
  {
   "cell_type": "code",
   "execution_count": 2,
   "metadata": {},
   "outputs": [],
   "source": [
    "# Initialize Firethorn Object\n",
    "\n",
    "ft = firethorn.Firethorn()\n"
   ]
  },
  {
   "cell_type": "code",
   "execution_count": 3,
   "metadata": {},
   "outputs": [
    {
     "data": {
      "text/plain": [
       "'Successfully logged in as: orinoco'"
      ]
     },
     "execution_count": 3,
     "metadata": {},
     "output_type": "execute_result"
    }
   ],
   "source": [
    "# Login as admin account (username,password, community)\n",
    "\n",
    "ft.login(\"\", \"\", \"\")\n"
   ]
  },
  {
   "cell_type": "code",
   "execution_count": 4,
   "metadata": {},
   "outputs": [
    {
     "name": "stdout",
     "output_type": "stream",
     "text": [
      "{'system': {'platform': 'Fedora release 27 (Twenty Seven)', 'time': '2018-02-01T23:23:22.986Z', 'arch': 'amd64', 'version': '4.14.14-300.fc27.x86_64', 'name': 'Linux'}, 'jdbc': {'drivers': [{'class': 'org.postgresql.Driver'}, {'class': 'net.sourceforge.jtds.jdbc.Driver'}]}, 'servlet': {'context': '/firethorn', 'server': 'Apache Tomcat/8.5.24'}, 'build': {'timestamp': '1516998835061', 'changeset': '05cab649839aa07b6bf27290', 'version': '2.1.13', 'name': 'firethorn-core'}, 'java': {'memory': {'free': 132191720, 'total': 225443840, 'max': 921174016}, 'version': '1.8.0_151', 'build': '25.151-b12', 'name': 'OpenJDK 64-Bit Server VM'}}\n"
     ]
    }
   ],
   "source": [
    "# Check the System info page\n",
    "\n",
    "print (ft.firethorn_engine.system_info_check())\n"
   ]
  },
  {
   "cell_type": "code",
   "execution_count": 5,
   "metadata": {},
   "outputs": [
    {
     "name": "stdout",
     "output_type": "stream",
     "text": [
      "http://localhost:8081/firethorn/jdbc/resource/84269\n"
     ]
    }
   ],
   "source": [
    "#  Create a JdbcResource to represent the local JDBC database.\n",
    "\n",
    "datahost=\"\"\n",
    "datauser=\"\"\n",
    "datapass=\"\"\n",
    "dataurl=\"jdbc:jtds:sqlserver:///\"\n",
    "jdbc_name=\"ATLAS JDBC resource\"\n",
    "\n",
    "jdbc_url=\"jdbc:jtds:sqlserver://\" + datahost + \"/ATLASDR1\"\n",
    "atlas_jdbc_url = ft.firethorn_engine.create_jdbc_space(\"ATLAS\" , dataurl, \"ATLASDR1\", jdbc_name, datauser, datapass)\n",
    "print (atlas_jdbc_url)\n",
    "    "
   ]
  },
  {
   "cell_type": "code",
   "execution_count": 6,
   "metadata": {},
   "outputs": [
    {
     "name": "stdout",
     "output_type": "stream",
     "text": [
      "http://localhost:8081/firethorn/adql/resource/84270\n"
     ]
    }
   ],
   "source": [
    "# Create an empty AdqlResource to represent the local JDBC database.\n",
    "\n",
    "adqlname=\"ATLAS ADQL resource\"\n",
    "atlas_adql_url = ft.firethorn_engine.create_adql_space(adqlname)\n",
    "print (atlas_adql_url)"
   ]
  },
  {
   "cell_type": "code",
   "execution_count": 7,
   "metadata": {},
   "outputs": [
    {
     "name": "stdout",
     "output_type": "stream",
     "text": [
      "http://localhost:8081/firethorn/jdbc/schema/73297\n"
     ]
    }
   ],
   "source": [
    "# Locate the JdbcSchema based on catalog and schema name. \n",
    "\n",
    "catalog=\"ATLASDR1\"\n",
    "schema=\"dbo\"\n",
    "atlas_jdbc_schema = ft.firethorn_engine.jdbc_select_by_name(atlas_jdbc_url, catalog, schema)\n",
    "print (atlas_jdbc_schema)\n"
   ]
  },
  {
   "cell_type": "code",
   "execution_count": 13,
   "metadata": {},
   "outputs": [
    {
     "name": "stdout",
     "output_type": "stream",
     "text": [
      "http://localhost:8081/firethorn/adql/schema/73299\n"
     ]
    }
   ],
   "source": [
    "# Import the mapping between JDBC and ADQL tables.\n",
    "    \n",
    "metadoc=\"/usr/local/lib/python3.4/dist-packages/firethorn-0.1.0-py3.4.egg/firethorn/meta/ATLASDR1_TablesSchema.xml\"\n",
    "atlas_adql_schema = ft.firethorn_engine.import_jdbc_metadoc(atlas_adql_url, atlas_jdbc_schema, metadoc)\n",
    "print (atlas_adql_schema)\n",
    " "
   ]
  },
  {
   "cell_type": "code",
   "execution_count": 14,
   "metadata": {},
   "outputs": [
    {
     "name": "stdout",
     "output_type": "stream",
     "text": [
      "http://localhost:8081/firethorn/ivoa/resource/84273\n"
     ]
    }
   ],
   "source": [
    "# Create an IvoaResource to represent the GAIA TAP resource.\n",
    "\n",
    "tapname=\"GAIA TAP service\"\n",
    "tapurl=\"http://gea.esac.esa.int/tap-server/tap\"\n",
    "gaia_ivoa_resource = ft.firethorn_engine.create_ivoa_space(tapname, tapurl)\n",
    "print (gaia_ivoa_resource)"
   ]
  },
  {
   "cell_type": "code",
   "execution_count": 17,
   "metadata": {},
   "outputs": [
    {
     "name": "stdout",
     "output_type": "stream",
     "text": [
      "http://localhost:8081/firethorn/ivoa/schema/93353\n"
     ]
    }
   ],
   "source": [
    "# Import the VOSI Metadata\n",
    "\n",
    "vosifile='/usr/local/lib/python3.4/dist-packages/firethorn-0.1.0-py3.4.egg/firethorn/meta/vosi/gaia/gaia-tableset.xml'\n",
    "gaia_schema = ft.firethorn_engine.import_vosi(vosifile, gaia_ivoa_resource)\n",
    "print (gaia_schema)"
   ]
  },
  {
   "cell_type": "code",
   "execution_count": 18,
   "metadata": {},
   "outputs": [
    {
     "name": "stdout",
     "output_type": "stream",
     "text": [
      "http://localhost:8081/firethorn/adql/resource/84275\n"
     ]
    }
   ],
   "source": [
    "# Create a new ADQL resource to act as a workspace.\n",
    "\n",
    "adqlname=\"Query workspace\"\n",
    "queryspace = ft.firethorn_engine.create_adql_space(adqlname)\n",
    "print(queryspace)\n"
   ]
  },
  {
   "cell_type": "code",
   "execution_count": 19,
   "metadata": {},
   "outputs": [
    {
     "name": "stdout",
     "output_type": "stream",
     "text": [
      "http://localhost:8081/firethorn/adql/schema/73299\n"
     ]
    }
   ],
   "source": [
    "# Find the AtlasDR1 schema by name.\n",
    "    \n",
    "selector=\"ATLASDR1\"\n",
    "atlas_schema = ft.firethorn_engine.select_by_name(selector, atlas_adql_url)\n",
    "print (atlas_schema)\n",
    "    "
   ]
  },
  {
   "cell_type": "code",
   "execution_count": 20,
   "metadata": {},
   "outputs": [
    {
     "name": "stdout",
     "output_type": "stream",
     "text": [
      "http://localhost:8081/firethorn/ivoa/schema/93353\n"
     ]
    }
   ],
   "source": [
    "# Find the Gaia DR1 schema by name.\n",
    "    \n",
    "selector=\"gaiadr1\"\n",
    "gaia_schema = ft.firethorn_engine.select_ivoa_schema(selector, gaia_ivoa_resource)\n",
    "print (gaia_schema)"
   ]
  },
  {
   "cell_type": "code",
   "execution_count": 21,
   "metadata": {},
   "outputs": [],
   "source": [
    "# Add the Atlas DR1 schema.\n",
    "\n",
    "name=\"ATLASDR1\"\n",
    "ft.firethorn_engine.import_schema(name, atlas_schema, queryspace)"
   ]
  },
  {
   "cell_type": "code",
   "execution_count": 22,
   "metadata": {},
   "outputs": [],
   "source": [
    "# Add the Gaia DR1 schema.\n",
    "    \n",
    "name=\"GAIADR1\"\n",
    "base=gaia_schema\n",
    "ft.firethorn_engine.import_schema(name, base, queryspace)"
   ]
  },
  {
   "cell_type": "code",
   "execution_count": 23,
   "metadata": {},
   "outputs": [
    {
     "name": "stdout",
     "output_type": "stream",
     "text": [
      "[{'modified': '2018-02-01T23:25:35.603', 'self': 'http://localhost:8081/firethorn/adql/schema/93354', 'parent': 'http://localhost:8081/firethorn/adql/resource/84275', 'queries': 'http://localhost:8081/firethorn/adql/schema/93354/queries/select', 'owner': 'http://localhost:8081/firethorn/community-member/156', 'tables': 'http://localhost:8081/firethorn/adql/schema/93354/tables/select', 'depth': 'THIN', 'base': 'http://localhost:8081/firethorn/adql/schema/73299', 'text': None, 'created': '2018-02-01T23:25:35.603', 'resource': 'http://localhost:8081/firethorn/adql/resource/84275', 'fullname': 'ATLASDR1', 'type': 'http://data.metagrid.co.uk/wfau/firethorn/types/entity/adql-schema-1.0.json', 'root': 'http://localhost:8081/firethorn/jdbc/schema/73297', 'name': 'ATLASDR1'}, {'modified': '2018-02-01T23:25:35.865', 'self': 'http://localhost:8081/firethorn/adql/schema/93355', 'parent': 'http://localhost:8081/firethorn/adql/resource/84275', 'queries': 'http://localhost:8081/firethorn/adql/schema/93355/queries/select', 'owner': 'http://localhost:8081/firethorn/community-member/156', 'tables': 'http://localhost:8081/firethorn/adql/schema/93355/tables/select', 'depth': 'THIN', 'base': 'http://localhost:8081/firethorn/ivoa/schema/93353', 'text': None, 'created': '2018-02-01T23:25:35.865', 'resource': 'http://localhost:8081/firethorn/adql/resource/84275', 'fullname': 'GAIADR1', 'type': 'http://data.metagrid.co.uk/wfau/firethorn/types/entity/adql-schema-1.0.json', 'root': 'http://localhost:8081/firethorn/ivoa/schema/93353', 'name': 'GAIADR1'}]\n"
     ]
    }
   ],
   "source": [
    "# List the workspace schema.\n",
    "\n",
    "print (ft.firethorn_engine.list_schemas(queryspace))"
   ]
  },
  {
   "cell_type": "code",
   "execution_count": null,
   "metadata": {},
   "outputs": [],
   "source": []
  }
 ],
 "metadata": {
  "kernelspec": {
   "display_name": "Python 3",
   "language": "python",
   "name": "python3"
  },
  "language_info": {
   "codemirror_mode": {
    "name": "ipython",
    "version": 3
   },
   "file_extension": ".py",
   "mimetype": "text/x-python",
   "name": "python",
   "nbconvert_exporter": "python",
   "pygments_lexer": "ipython3",
   "version": "3.4.3"
  }
 },
 "nbformat": 4,
 "nbformat_minor": 2
}
