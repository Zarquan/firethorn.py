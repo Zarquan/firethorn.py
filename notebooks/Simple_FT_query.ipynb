{
 "cells": [
  {
   "cell_type": "code",
   "execution_count": 2,
   "metadata": {},
   "outputs": [],
   "source": [
    "from firethorn import Firethorn\n"
   ]
  },
  {
   "cell_type": "code",
   "execution_count": 3,
   "metadata": {},
   "outputs": [
    {
     "name": "stdout",
     "output_type": "stream",
     "text": [
      "['OSA']\n"
     ]
    }
   ],
   "source": [
    "ft = Firethorn(endpoint=\"http://localhost:8081/firethorn\")\n",
    "print (ft.get_public_workspaces())"
   ]
  },
  {
   "cell_type": "code",
   "execution_count": 4,
   "metadata": {},
   "outputs": [
    {
     "name": "stdout",
     "output_type": "stream",
     "text": [
      "Downloading http://localhost:8081/firethorn/adql/table/5461743/votable [Done]\n",
      "column.5461745 column.5461747 column.5461749 ... column.5461761 column.5461763\n",
      "-------------- -------------- -------------- ... -------------- --------------\n",
      "             0           NONE           NONE ... -9.9999949e+08              0\n",
      "             1              u         u_SDSS ... -9.9999949e+08              0\n",
      "             2              g         g_SDSS ... -9.9999949e+08              0\n",
      "             3              r         r_SDSS ... -9.9999949e+08              0\n",
      "             4              i         i_SDSS ... -9.9999949e+08              0\n",
      "             5              z         z_SDSS ... -9.9999949e+08              0\n",
      "             6              B         B_JOHN ... -9.9999949e+08              0\n",
      "             7              V         V_JOHN ... -9.9999949e+08              0\n",
      "             8           BLNK OMEGACAM blank ... -9.9999949e+08              0\n",
      "             9          vStrm         v_STRM ... -9.9999949e+08              0\n",
      "            10        HaVPHAS         NB_659 ... -9.9999949e+08              1\n",
      "            11          z03Ha         NB_852 ... -9.9999949e+08              1\n",
      "            12          Calib   u_g_r_i_SDSS ... -9.9999949e+08              1\n",
      "            13             Ha        H_ALPHA ... -9.9999898e+08              1\n"
     ]
    },
    {
     "name": "stderr",
     "output_type": "stream",
     "text": [
      "WARNING: W45: http://localhost:8081/firethorn/adql/table/5461743/votable:1:317: W45: content-role attribute 'metadata' invalid [astropy.io.votable.tree]\n",
      "WARNING: W45: http://localhost:8081/firethorn/adql/table/5461743/votable:1:625: W45: content-role attribute 'metadata' invalid [astropy.io.votable.tree]\n",
      "WARNING: W45: http://localhost:8081/firethorn/adql/table/5461743/votable:1:843: W45: content-role attribute 'metadata' invalid [astropy.io.votable.tree]\n",
      "WARNING: W45: http://localhost:8081/firethorn/adql/table/5461743/votable:1:1056: W45: content-role attribute 'metadata' invalid [astropy.io.votable.tree]\n",
      "WARNING: W45: http://localhost:8081/firethorn/adql/table/5461743/votable:1:1277: W45: content-role attribute 'metadata' invalid [astropy.io.votable.tree]\n",
      "WARNING: W45: http://localhost:8081/firethorn/adql/table/5461743/votable:1:1477: W45: content-role attribute 'metadata' invalid [astropy.io.votable.tree]\n",
      "WARNING: W45: http://localhost:8081/firethorn/adql/table/5461743/votable:1:1678: W45: content-role attribute 'metadata' invalid [astropy.io.votable.tree]\n",
      "WARNING: W45: http://localhost:8081/firethorn/adql/table/5461743/votable:1:1877: W45: content-role attribute 'metadata' invalid [astropy.io.votable.tree]\n",
      "WARNING: W45: http://localhost:8081/firethorn/adql/table/5461743/votable:1:2080: W45: content-role attribute 'metadata' invalid [astropy.io.votable.tree]\n",
      "WARNING: W45: http://localhost:8081/firethorn/adql/table/5461743/votable:1:2285: W45: content-role attribute 'metadata' invalid (suppressing further warnings of this type...) [astropy.io.votable.tree]\n"
     ]
    }
   ],
   "source": [
    "osa = ft.get_workspace(\"OSA\")\n",
    "myquery = osa.query_async(\"SELECT * FROM ATLASDR1.Filter\")\n",
    "myquery.run()\n",
    "while myquery.status()==\"RUNNING\" or myquery.status()==\"READY\":\n",
    "    time.sleep(5)\n",
    "        \n",
    "print (myquery.results().as_astropy())"
   ]
  },
  {
   "cell_type": "code",
   "execution_count": 5,
   "metadata": {},
   "outputs": [
    {
     "name": "stdout",
     "output_type": "stream",
     "text": [
      "['ArchiveCurationHistory', 'AstrCalVers', 'CurationTask', 'CurrentAstrometry', 'ExternalSurvey', 'ExternalSurveyTable', 'Filter', 'FilterSections', 'Multiframe', 'MultiframeDetector', 'MultiframeDetectorEsoKeys', 'MultiframeEsoKeys', 'PhotCalVers', 'PreviousMFDZP', 'ProductLinks', 'Programme', 'ProgrammeCurationHistory', 'ProgrammeFrame', 'ProgrammeTable', 'Provenance', 'Release', 'RequiredDiffImage', 'RequiredFilters', 'RequiredListDrivenProduct', 'RequiredNeighbours', 'RequiredStack', 'SectionDetectors', 'StdFieldInfo', 'Survey', 'SurveyProgrammes', 'atlasDetection', 'atlasMergeLog', 'atlasSource', 'atlasSourceNeighbours', 'atlasSourceXDR5PhotoObj', 'atlasSourceXDR5PhotoObjAll', 'atlasSourceXDR7PhotoObj', 'atlasSourceXDR7PhotoObjAll', 'atlasSourceXDR8PhotoObj', 'atlasSourceXDR8PhotoObjAll', 'atlasSourceXDR9PhotoObj', 'atlasSourceXDR9PhotoObjAll', 'atlasSourceXGR6PhotoObjAll', 'atlasSourceXSSASource', 'atlasSourceXSegueDR6PhotoObj', 'atlasSourceXSegueDR6PhotoObjAll', 'atlasSourceXStripe82PhotoObjAll', 'atlasSourceXdenisDR3Source', 'atlasSourceXfirstSource', 'atlasSourceXglimpse_hrc_inter', 'atlasSourceXglimpse_mca_inter', 'atlasSourceXiras_psc', 'atlasSourceXmgcDetection', 'atlasSourceXnvssSource', 'atlasSourceXrosat_bsc', 'atlasSourceXrosat_fsc', 'atlasSourceXtwomass_psc', 'atlasSourceXtwomass_xsc', 'atlasSourceXtwoxmm', 'atlasSourceXvhsDr1Source', 'atlasSourceXvikingDr2Source', 'atlasSourceXwise_allskysc', 'ukirtFSstars']\n"
     ]
    }
   ],
   "source": [
    "wspace = ft.new_workspace(\"ATLAS\")\n",
    "wspace.import_schema(osa.get_schema(\"ATLASDR1\"))\n",
    "print (wspace.get_tables(\"ATLASDR1\"))"
   ]
  },
  {
   "cell_type": "code",
   "execution_count": 6,
   "metadata": {},
   "outputs": [
    {
     "name": "stdout",
     "output_type": "stream",
     "text": [
      "Downloading http://localhost:8081/firethorn/adql/table/5462971/votable [Done]\n",
      "column.5462973 column.5462975 column.5462977 ... column.5462989 column.5462991\n",
      "-------------- -------------- -------------- ... -------------- --------------\n",
      "             0           NONE           NONE ... -9.9999949e+08              0\n",
      "             1              u         u_SDSS ... -9.9999949e+08              0\n"
     ]
    },
    {
     "name": "stderr",
     "output_type": "stream",
     "text": [
      "WARNING: W45: http://localhost:8081/firethorn/adql/table/5462971/votable:1:317: W45: content-role attribute 'metadata' invalid [astropy.io.votable.tree]\n",
      "WARNING: W45: http://localhost:8081/firethorn/adql/table/5462971/votable:1:625: W45: content-role attribute 'metadata' invalid [astropy.io.votable.tree]\n",
      "WARNING: W45: http://localhost:8081/firethorn/adql/table/5462971/votable:1:843: W45: content-role attribute 'metadata' invalid [astropy.io.votable.tree]\n",
      "WARNING: W45: http://localhost:8081/firethorn/adql/table/5462971/votable:1:1056: W45: content-role attribute 'metadata' invalid [astropy.io.votable.tree]\n",
      "WARNING: W45: http://localhost:8081/firethorn/adql/table/5462971/votable:1:1277: W45: content-role attribute 'metadata' invalid [astropy.io.votable.tree]\n",
      "WARNING: W45: http://localhost:8081/firethorn/adql/table/5462971/votable:1:1477: W45: content-role attribute 'metadata' invalid [astropy.io.votable.tree]\n",
      "WARNING: W45: http://localhost:8081/firethorn/adql/table/5462971/votable:1:1678: W45: content-role attribute 'metadata' invalid [astropy.io.votable.tree]\n",
      "WARNING: W45: http://localhost:8081/firethorn/adql/table/5462971/votable:1:1877: W45: content-role attribute 'metadata' invalid [astropy.io.votable.tree]\n",
      "WARNING: W45: http://localhost:8081/firethorn/adql/table/5462971/votable:1:2080: W45: content-role attribute 'metadata' invalid [astropy.io.votable.tree]\n",
      "WARNING: W45: http://localhost:8081/firethorn/adql/table/5462971/votable:1:2285: W45: content-role attribute 'metadata' invalid (suppressing further warnings of this type...) [astropy.io.votable.tree]\n"
     ]
    }
   ],
   "source": [
    "qry = wspace.query(\"Select top 2 * from ATLASDR1.Filter\")\n",
    "print (qry.results().as_astropy())"
   ]
  },
  {
   "cell_type": "code",
   "execution_count": 7,
   "metadata": {},
   "outputs": [
    {
     "data": {
      "text/html": [
       "&lt;Table masked=True length=2&gt;\n",
       "<table id=\"table139874489019920-400562\" class=\"table-striped table-bordered table-condensed\">\n",
       "<thead><tr><th>idx</th><th>column.5462973</th><th>column.5462975</th><th>column.5462977</th><th>column.5462979</th><th>column.5462981</th><th>column.5462983</th><th>column.5462985</th><th>column.5462987</th><th>column.5462989</th><th>column.5462991</th></tr></thead>\n",
       "<tr><td>0</td><td>0</td><td>NONE</td><td>NONE</td><td>NONE</td><td>-9.9999949e+08</td><td>-9.9999949e+08</td><td>-9.9999949e+08</td><td>-9.9999949e+08</td><td>-9.9999949e+08</td><td>0</td></tr>\n",
       "<tr><td>1</td><td>1</td><td>u</td><td>u_SDSS</td><td>Sloan u filter: see  Tokunaga et al., 2002, PASP, 114, 180; http://www.astro-wise.org/~omegacam/documents/3110_user_manual.pdf</td><td>0.32690001</td><td>0.3829</td><td>5.1550002</td><td>0.94</td><td>-9.9999949e+08</td><td>0</td></tr>\n",
       "</table><style>table.dataTable {clear: both; width: auto !important; margin: 0 !important;}\n",
       ".dataTables_info, .dataTables_length, .dataTables_filter, .dataTables_paginate{\n",
       "display: inline-block; margin-right: 1em; }\n",
       ".paginate_button { margin-right: 5px; }\n",
       "</style>\n",
       "<script>\n",
       "\n",
       "var astropy_sort_num = function(a, b) {\n",
       "    var a_num = parseFloat(a);\n",
       "    var b_num = parseFloat(b);\n",
       "\n",
       "    if (isNaN(a_num) && isNaN(b_num))\n",
       "        return ((a < b) ? -1 : ((a > b) ? 1 : 0));\n",
       "    else if (!isNaN(a_num) && !isNaN(b_num))\n",
       "        return ((a_num < b_num) ? -1 : ((a_num > b_num) ? 1 : 0));\n",
       "    else\n",
       "        return isNaN(a_num) ? -1 : 1;\n",
       "}\n",
       "\n",
       "require.config({paths: {\n",
       "    datatables: 'https://cdn.datatables.net/1.10.12/js/jquery.dataTables.min'\n",
       "}});\n",
       "require([\"datatables\"], function(){\n",
       "    console.log(\"$('#table139874489019920-400562').dataTable()\");\n",
       "    \n",
       "jQuery.extend( jQuery.fn.dataTableExt.oSort, {\n",
       "    \"optionalnum-asc\": astropy_sort_num,\n",
       "    \"optionalnum-desc\": function (a,b) { return -astropy_sort_num(a, b); }\n",
       "});\n",
       "\n",
       "    $('#table139874489019920-400562').dataTable({\n",
       "        order: [],\n",
       "        pageLength: 50,\n",
       "        lengthMenu: [[10, 25, 50, 100, 500, 1000, -1], [10, 25, 50, 100, 500, 1000, 'All']],\n",
       "        pagingType: \"full_numbers\",\n",
       "        columnDefs: [{targets: [0, 1, 5, 6, 7, 8, 9, 10], type: \"optionalnum\"}]\n",
       "    });\n",
       "});\n",
       "</script>\n"
      ],
      "text/plain": [
       "<IPython.core.display.HTML object>"
      ]
     },
     "execution_count": 7,
     "metadata": {},
     "output_type": "execute_result"
    }
   ],
   "source": [
    "qry.results().as_astropy().show_in_notebook()\n"
   ]
  }
 ],
 "metadata": {
  "kernelspec": {
   "display_name": "Python 3",
   "language": "python",
   "name": "python3"
  },
  "language_info": {
   "codemirror_mode": {
    "name": "ipython",
    "version": 3
   },
   "file_extension": ".py",
   "mimetype": "text/x-python",
   "name": "python",
   "nbconvert_exporter": "python",
   "pygments_lexer": "ipython3",
   "version": "3.4.3"
  }
 },
 "nbformat": 4,
 "nbformat_minor": 2
}
