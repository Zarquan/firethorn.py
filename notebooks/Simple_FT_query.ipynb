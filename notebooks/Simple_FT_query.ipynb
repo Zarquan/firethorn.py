{
 "cells": [
  {
   "cell_type": "code",
   "execution_count": 1,
   "metadata": {},
   "outputs": [],
   "source": [
    "from firethorn import Firethorn\n"
   ]
  },
  {
   "cell_type": "code",
   "execution_count": 4,
   "metadata": {},
   "outputs": [],
   "source": [
    "ft = Firethorn()\n"
   ]
  },
  {
   "cell_type": "code",
   "execution_count": null,
   "metadata": {},
   "outputs": [],
   "source": [
    "print (ft.get_public_workspaces())\n"
   ]
  },
  {
   "cell_type": "code",
   "execution_count": 5,
   "metadata": {},
   "outputs": [],
   "source": [
    "osa = ft.get_workspace(\"OSA\")\n"
   ]
  },
  {
   "cell_type": "code",
   "execution_count": 6,
   "metadata": {},
   "outputs": [],
   "source": [
    "myquery = osa.new_query(\"SELECT * FROM ATLASDR1.Filter\")\n"
   ]
  },
  {
   "cell_type": "code",
   "execution_count": 7,
   "metadata": {},
   "outputs": [],
   "source": [
    "myquery.run(mode=\"SYNC\")\n"
   ]
  },
  {
   "cell_type": "code",
   "execution_count": 8,
   "metadata": {},
   "outputs": [
    {
     "name": "stdout",
     "output_type": "stream",
     "text": [
      "COMPLETED\n"
     ]
    }
   ],
   "source": [
    "print (myquery.status())\n"
   ]
  },
  {
   "cell_type": "code",
   "execution_count": 9,
   "metadata": {},
   "outputs": [
    {
     "name": "stdout",
     "output_type": "stream",
     "text": [
      "None\n"
     ]
    }
   ],
   "source": [
    "print (myquery.get_error())\n"
   ]
  },
  {
   "cell_type": "code",
   "execution_count": 10,
   "metadata": {},
   "outputs": [
    {
     "name": "stdout",
     "output_type": "stream",
     "text": [
      "column.5221626 column.5221628 column.5221630 ... column.5221642 column.5221644\n",
      "-------------- -------------- -------------- ... -------------- --------------\n",
      "             0           NONE           NONE ... -9.9999949e+08              0\n",
      "             1              u         u_SDSS ... -9.9999949e+08              0\n",
      "             2              g         g_SDSS ... -9.9999949e+08              0\n",
      "             3              r         r_SDSS ... -9.9999949e+08              0\n",
      "             4              i         i_SDSS ... -9.9999949e+08              0\n",
      "             5              z         z_SDSS ... -9.9999949e+08              0\n",
      "             6              B         B_JOHN ... -9.9999949e+08              0\n",
      "             7              V         V_JOHN ... -9.9999949e+08              0\n",
      "             8           BLNK OMEGACAM blank ... -9.9999949e+08              0\n",
      "             9          vStrm         v_STRM ... -9.9999949e+08              0\n",
      "            10        HaVPHAS         NB_659 ... -9.9999949e+08              1\n",
      "            11          z03Ha         NB_852 ... -9.9999949e+08              1\n",
      "            12          Calib   u_g_r_i_SDSS ... -9.9999949e+08              1\n",
      "            13             Ha        H_ALPHA ... -9.9999898e+08              1\n"
     ]
    }
   ],
   "source": [
    "print (myquery.results().as_astropy())\n"
   ]
  },
  {
   "cell_type": "code",
   "execution_count": 11,
   "metadata": {},
   "outputs": [
    {
     "name": "stdout",
     "output_type": "stream",
     "text": [
      "Queryspace ID: http://localhost:8081/firethorn/adql/schema/5210118 \n",
      "Query: SELECT * FROM ATLASDR1.Filter\n",
      "Query ID: http://localhost:8081/firethorn/blue/query/5221617\n",
      " \n"
     ]
    }
   ],
   "source": [
    "print (myquery)\n"
   ]
  },
  {
   "cell_type": "code",
   "execution_count": 12,
   "metadata": {},
   "outputs": [
    {
     "name": "stdout",
     "output_type": "stream",
     "text": [
      "Table ID: http://localhost:8081/firethorn/adql/table/5221624\n",
      " \n"
     ]
    }
   ],
   "source": [
    "print (myquery.results())"
   ]
  },
  {
   "cell_type": "code",
   "execution_count": 13,
   "metadata": {},
   "outputs": [
    {
     "data": {
      "text/html": [
       "&lt;Table masked=True length=14&gt;\n",
       "<table id=\"table140214120091152-730132\" class=\"table-striped table-bordered table-condensed\">\n",
       "<thead><tr><th>idx</th><th>column.5221626</th><th>column.5221628</th><th>column.5221630</th><th>column.5221632</th><th>column.5221634</th><th>column.5221636</th><th>column.5221638</th><th>column.5221640</th><th>column.5221642</th><th>column.5221644</th></tr></thead>\n",
       "<tr><td>0</td><td>0</td><td>NONE</td><td>NONE</td><td>NONE</td><td>-9.9999949e+08</td><td>-9.9999949e+08</td><td>-9.9999949e+08</td><td>-9.9999949e+08</td><td>-9.9999949e+08</td><td>0</td></tr>\n",
       "<tr><td>1</td><td>1</td><td>u</td><td>u_SDSS</td><td>Sloan u filter: see  Tokunaga et al., 2002, PASP, 114, 180; http://www.astro-wise.org/~omegacam/documents/3110_user_manual.pdf</td><td>0.32690001</td><td>0.3829</td><td>5.1550002</td><td>0.94</td><td>-9.9999949e+08</td><td>0</td></tr>\n",
       "<tr><td>2</td><td>2</td><td>g</td><td>g_SDSS</td><td>Sloan g filter: see  Tokunaga et al., 2002, PASP, 114, 180; http://www.astro-wise.org/~omegacam/documents/3110_user_manual.pdf</td><td>0.40920001</td><td>0.54570001</td><td>3.793</td><td>-0.079999998</td><td>-9.9999949e+08</td><td>0</td></tr>\n",
       "<tr><td>3</td><td>3</td><td>r</td><td>r_SDSS</td><td>Sloan r filter (see Tokunaga et al., 2002, PASP, 114, 180; http://www.astro-wise.org/~omegacam/documents/3110_user_manual.pdf)</td><td>0.5546</td><td>0.69169998</td><td>2.7509999</td><td>0.17</td><td>-9.9999949e+08</td><td>0</td></tr>\n",
       "<tr><td>4</td><td>4</td><td>i</td><td>i_SDSS</td><td>Sloan i filter (see Tokunaga et al., 2002, PASP, 114, 180; http://www.astro-wise.org/~omegacam/documents/3110_user_manual.pdf)</td><td>0.69499999</td><td>0.83099997</td><td>2.086</td><td>0.40000001</td><td>-9.9999949e+08</td><td>0</td></tr>\n",
       "<tr><td>5</td><td>5</td><td>z</td><td>z_SDSS</td><td>Sloan z filter (see Tokunaga et al., 2002, PASP, 114, 180; http://www.astro-wise.org/~omegacam/documents/3110_user_manual.pdf)</td><td>0.86549997</td><td>0.9605</td><td>1.479</td><td>0.56999999</td><td>-9.9999949e+08</td><td>0</td></tr>\n",
       "<tr><td>6</td><td>6</td><td>B</td><td>B_JOHN</td><td>Johnson B filter</td><td>0.38999999</td><td>0.49000001</td><td>-9.9999949e+08</td><td>-0.044</td><td>-9.9999949e+08</td><td>0</td></tr>\n",
       "<tr><td>7</td><td>7</td><td>V</td><td>V_JOHN</td><td>Johnson V filter</td><td>0.5</td><td>0.60000002</td><td>-9.9999949e+08</td><td>-0.163</td><td>-9.9999949e+08</td><td>0</td></tr>\n",
       "<tr><td>8</td><td>8</td><td>BLNK</td><td>OMEGACAM blank</td><td>OMEGACAM blank filter (e.g. for darks)</td><td>-9.9999949e+08</td><td>-9.9999949e+08</td><td>-9.9999949e+08</td><td>-9.9999949e+08</td><td>-9.9999949e+08</td><td>0</td></tr>\n",
       "<tr><td>9</td><td>9</td><td>vStrm</td><td>v_STRM</td><td>Stroemgren v</td><td>0.4005</td><td>0.4215</td><td>-9.9999949e+08</td><td>-9.9999949e+08</td><td>-9.9999949e+08</td><td>0</td></tr>\n",
       "<tr><td>10</td><td>10</td><td>HaVPHAS</td><td>NB_659</td><td>Halpha S: 658.6,659.3</td><td>-9.9999949e+08</td><td>-9.9999949e+08</td><td>-9.9999949e+08</td><td>-9.9999949e+08</td><td>-9.9999949e+08</td><td>1</td></tr>\n",
       "<tr><td>11</td><td>11</td><td>z03Ha</td><td>NB_852</td><td>z=0.3 Halpha Q4: 852,861,869,878</td><td>-9.9999949e+08</td><td>-9.9999949e+08</td><td>-9.9999949e+08</td><td>-9.9999949e+08</td><td>-9.9999949e+08</td><td>1</td></tr>\n",
       "<tr><td>12</td><td>12</td><td>Calib</td><td>u_g_r_i_SDSS</td><td>Calibration filter Q4: u,g,r,i</td><td>-9.9999949e+08</td><td>-9.9999949e+08</td><td>-9.9999949e+08</td><td>-9.9999949e+08</td><td>-9.9999949e+08</td><td>1</td></tr>\n",
       "<tr><td>13</td><td>13</td><td>Ha</td><td>H_ALPHA</td><td>Halpha Q4: 659.0,666.0,672.6,679.1</td><td>-9.9999898e+08</td><td>-9.9999898e+08</td><td>-9.9999898e+08</td><td>-9.9999898e+08</td><td>-9.9999898e+08</td><td>1</td></tr>\n",
       "</table><style>table.dataTable {clear: both; width: auto !important; margin: 0 !important;}\n",
       ".dataTables_info, .dataTables_length, .dataTables_filter, .dataTables_paginate{\n",
       "display: inline-block; margin-right: 1em; }\n",
       ".paginate_button { margin-right: 5px; }\n",
       "</style>\n",
       "<script>\n",
       "\n",
       "var astropy_sort_num = function(a, b) {\n",
       "    var a_num = parseFloat(a);\n",
       "    var b_num = parseFloat(b);\n",
       "\n",
       "    if (isNaN(a_num) && isNaN(b_num))\n",
       "        return ((a < b) ? -1 : ((a > b) ? 1 : 0));\n",
       "    else if (!isNaN(a_num) && !isNaN(b_num))\n",
       "        return ((a_num < b_num) ? -1 : ((a_num > b_num) ? 1 : 0));\n",
       "    else\n",
       "        return isNaN(a_num) ? -1 : 1;\n",
       "}\n",
       "\n",
       "require.config({paths: {\n",
       "    datatables: 'https://cdn.datatables.net/1.10.12/js/jquery.dataTables.min'\n",
       "}});\n",
       "require([\"datatables\"], function(){\n",
       "    console.log(\"$('#table140214120091152-730132').dataTable()\");\n",
       "    \n",
       "jQuery.extend( jQuery.fn.dataTableExt.oSort, {\n",
       "    \"optionalnum-asc\": astropy_sort_num,\n",
       "    \"optionalnum-desc\": function (a,b) { return -astropy_sort_num(a, b); }\n",
       "});\n",
       "\n",
       "    $('#table140214120091152-730132').dataTable({\n",
       "        order: [],\n",
       "        pageLength: 50,\n",
       "        lengthMenu: [[10, 25, 50, 100, 500, 1000, -1], [10, 25, 50, 100, 500, 1000, 'All']],\n",
       "        pagingType: \"full_numbers\",\n",
       "        columnDefs: [{targets: [0, 1, 5, 6, 7, 8, 9, 10], type: \"optionalnum\"}]\n",
       "    });\n",
       "});\n",
       "</script>\n"
      ],
      "text/plain": [
       "<IPython.core.display.HTML object>"
      ]
     },
     "execution_count": 13,
     "metadata": {},
     "output_type": "execute_result"
    }
   ],
   "source": [
    "myquery.results().as_astropy().show_in_notebook()\n"
   ]
  },
  {
   "cell_type": "code",
   "execution_count": null,
   "metadata": {},
   "outputs": [],
   "source": []
  }
 ],
 "metadata": {
  "kernelspec": {
   "display_name": "Python 2",
   "language": "python",
   "name": "python2"
  },
  "language_info": {
   "codemirror_mode": {
    "name": "ipython",
    "version": 2
   },
   "file_extension": ".py",
   "mimetype": "text/x-python",
   "name": "python",
   "nbconvert_exporter": "python",
   "pygments_lexer": "ipython2",
   "version": "2.7.6"
  }
 },
 "nbformat": 4,
 "nbformat_minor": 2
}
