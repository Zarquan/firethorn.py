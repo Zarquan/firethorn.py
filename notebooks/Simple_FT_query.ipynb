{
 "cells": [
  {
   "cell_type": "code",
   "execution_count": null,
   "metadata": {},
   "outputs": [],
   "source": [
    "# Import Firethorn\n",
    "\n",
    "import firethorn"
   ]
  },
  {
   "cell_type": "code",
   "execution_count": null,
   "metadata": {},
   "outputs": [],
   "source": [
    "# Initialize Firethorn Object with Firethorn base URL endpoint\n",
    "\n",
    "ft = firethorn.Firethorn(endpoint=\"http://localhost:8081/firethorn\")"
   ]
  },
  {
   "cell_type": "code",
   "execution_count": null,
   "metadata": {},
   "outputs": [],
   "source": [
    "# Login as user\n",
    "\n",
    "ft.login(\"\", \"\", \"\")\n"
   ]
  },
  {
   "cell_type": "code",
   "execution_count": null,
   "metadata": {},
   "outputs": [],
   "source": [
    "# Get list of Available Workspaces\n",
    "\n",
    "print (ft.get_public_workspaces())"
   ]
  },
  {
   "cell_type": "code",
   "execution_count": null,
   "metadata": {},
   "outputs": [],
   "source": [
    "# Run an Asynchronous Query on the \"OSA\" workspace\n",
    "\n",
    "import time\n",
    "osa = ft.get_workspace(\"OSA\")\n",
    "myquery = osa.query_async(\"SELECT * FROM ATLASDR1.Filter\")\n",
    "myquery.run()\n",
    "while myquery.status()==\"RUNNING\" or myquery.status()==\"READY\":\n",
    "    print (myquery.status())\n",
    "    time.sleep(5)\n",
    "        \n",
    "print (myquery.results().as_astropy())"
   ]
  },
  {
   "cell_type": "code",
   "execution_count": null,
   "metadata": {},
   "outputs": [],
   "source": [
    "# Create a new workspace, import ATLASDR1 from the osa workspase & list tables\n",
    "\n",
    "wspace = ft.new_workspace(\"ATLAS\")\n",
    "wspace.import_schema(osa.get_schema(\"ATLASDR1\"))\n",
    "print (wspace.get_tables(\"ATLASDR1\"))"
   ]
  },
  {
   "cell_type": "code",
   "execution_count": null,
   "metadata": {},
   "outputs": [],
   "source": [
    "# Run query on new workspace\n",
    "\n",
    "qry = wspace.query(\"Select top 2 * from ATLASDR1.Filter\")\n",
    "print (qry.results().as_astropy())"
   ]
  },
  {
   "cell_type": "code",
   "execution_count": null,
   "metadata": {},
   "outputs": [],
   "source": [
    "# Show Astropy Table in notebook view\n",
    "\n",
    "qry.results().as_astropy().show_in_notebook()\n"
   ]
  },
  {
   "cell_type": "code",
   "execution_count": null,
   "metadata": {},
   "outputs": [],
   "source": []
  }
 ],
 "metadata": {
  "kernelspec": {
   "display_name": "Python 3",
   "language": "python",
   "name": "python3"
  },
  "language_info": {
   "codemirror_mode": {
    "name": "ipython",
    "version": 3
   },
   "file_extension": ".py",
   "mimetype": "text/x-python",
   "name": "python",
   "nbconvert_exporter": "python",
   "pygments_lexer": "ipython3",
   "version": "3.4.3"
  }
 },
 "nbformat": 4,
 "nbformat_minor": 2
}
